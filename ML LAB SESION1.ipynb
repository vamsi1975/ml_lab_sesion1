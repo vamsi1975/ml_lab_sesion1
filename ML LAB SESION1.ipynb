{
 "cells": [
  {
   "cell_type": "code",
   "execution_count": 1,
   "id": "f2533460",
   "metadata": {},
   "outputs": [
    {
     "name": "stdout",
     "output_type": "stream",
     "text": [
      "Enter a string: vamsikrishna\n",
      "Number of vowels: 4\n",
      "Number of consonants: 8\n"
     ]
    }
   ],
   "source": [
    "def count_vowels_and_consonants(input_string):\n",
    "    vowels = \"aeiouAEIOU\"\n",
    "    vowel_count = 0\n",
    "    consonant_count = 0\n",
    "    for char in input_string:\n",
    "        if ('a' <= char <= 'z') or ('A' <= char <= 'Z'):\n",
    "            if char in vowels:  \n",
    "                vowel_count += 1\n",
    "            else:  \n",
    "                consonant_count += 1\n",
    "    return vowel_count, consonant_count\n",
    "\n",
    "user_input = input(\"Enter a string: \")\n",
    "vowels, consonants = count_vowels_and_consonants(user_input)\n",
    "print(f\"Number of vowels: {vowels}\")\n",
    "print(f\"Number of consonants: {consonants}\")"
   ]
  },
  {
   "cell_type": "code",
   "execution_count": 2,
   "id": "9ddcf13c",
   "metadata": {},
   "outputs": [
    {
     "name": "stdout",
     "output_type": "stream",
     "text": [
      "Enter the number of rows for matrix A: 2\n",
      "Enter the number of columns for matrix A: 2\n",
      "Enter the elements of the matrix (2x2):\n",
      "Row 1: 2 3\n",
      "Row 2: 3 5\n",
      "Enter the number of rows for matrix B: 2\n",
      "Enter the number of columns for matrix B: 2\n",
      "Enter the elements of the matrix (2x2):\n",
      "Row 1: 4 4\n",
      "Row 2: 4 5\n",
      "Product of matrices A and B:\n",
      "20 23\n",
      "32 37\n"
     ]
    }
   ],
   "source": [
    "def input_matrix(rows, cols):\n",
    "    matrix = []\n",
    "    print(f\"Enter the elements of the matrix ({rows}x{cols}):\")\n",
    "    for i in range(rows):\n",
    "        row = list(map(int, input(f\"Row {i + 1}: \").split()))\n",
    "        if len(row) != cols:\n",
    "            print(f\"Error: Expected {cols} elements, but got {len(row)}.\")\n",
    "            return None\n",
    "        matrix.append(row)\n",
    "    return matrix\n",
    "\n",
    "def multiply_matrices(a, b):\n",
    "    if len(a[0]) != len(b):\n",
    "        return None\n",
    "\n",
    "    result = [[0 for _ in range(len(b[0]))] for _ in range(len(a))]\n",
    "    \n",
    "    for i in range(len(a)):\n",
    "        for j in range(len(b[0])):\n",
    "            for k in range(len(b)):\n",
    "                result[i][j] += a[i][k] * b[k][j]\n",
    "    \n",
    "    return result\n",
    "\n",
    "def print_matrix(matrix):\n",
    "    for row in matrix:\n",
    "        print(\" \".join(map(str, row)))\n",
    "\n",
    "rows_a = int(input(\"Enter the number of rows for matrix A: \"))\n",
    "cols_a = int(input(\"Enter the number of columns for matrix A: \"))\n",
    "matrix_a = input_matrix(rows_a, cols_a)\n",
    "\n",
    "rows_b = int(input(\"Enter the number of rows for matrix B: \"))\n",
    "cols_b = int(input(\"Enter the number of columns for matrix B: \"))\n",
    "matrix_b = input_matrix(rows_b, cols_b)\n",
    "\n",
    "if matrix_a is None or matrix_b is None:\n",
    "    print(\"Error in matrix input.\")\n",
    "else:\n",
    "    product = multiply_matrices(matrix_a, matrix_b)\n",
    "    \n",
    "    if product is None:\n",
    "        print(\"Error: Matrices are not multiplicable.\")\n",
    "    else:\n",
    "        print(\"Product of matrices A and B:\")\n",
    "        print_matrix(product)"
   ]
  },
  {
   "cell_type": "code",
   "execution_count": 7,
   "id": "3df4fa15",
   "metadata": {},
   "outputs": [
    {
     "name": "stdout",
     "output_type": "stream",
     "text": [
      "Enter the number of elements in the first list: 5\n",
      "Enter the elements of the first list:\n",
      "10\n",
      "12\n",
      "13\n",
      "14\n",
      "15\n",
      "Enter the number of elements in the second list: 4\n",
      "Enter the elements of the second list:\n",
      "1\n",
      "2\n",
      "3\n",
      "4\n",
      "Common elements: []\n",
      "Number of common elements: 0\n"
     ]
    }
   ],
   "source": [
    "def find_common_elements(list1, list2):\n",
    "    return list(set(element for element in list1 if element in list2))\n",
    "\n",
    "list1 = []\n",
    "list2 = []\n",
    "\n",
    "n1 = int(input(\"Enter the number of elements in the first list: \"))\n",
    "print(\"Enter the elements of the first list:\")\n",
    "list1 = [int(input()) for _ in range(n1)]\n",
    "\n",
    "n2 = int(input(\"Enter the number of elements in the second list: \"))\n",
    "print(\"Enter the elements of the second list:\")\n",
    "list2 = [int(input()) for _ in range(n2)]\n",
    "\n",
    "common_elements = find_common_elements(list1, list2)\n",
    "\n",
    "print(f\"Common elements: {common_elements}\")\n",
    "print(f\"Number of common elements: {len(common_elements)}\")"
   ]
  },
  {
   "cell_type": "code",
   "execution_count": 8,
   "id": "fd30e276",
   "metadata": {},
   "outputs": [
    {
     "name": "stdout",
     "output_type": "stream",
     "text": [
      "Enter the number of rows: 3\n",
      "Enter the number of columns: 3\n",
      "Enter the elements of the matrix:\n",
      "Row 1: 1 2 3\n",
      "Row 2: 2 4 5\n",
      "Row 3: 5 6 7\n",
      "Original matrix:\n",
      "1 2 3\n",
      "2 4 5\n",
      "5 6 7\n",
      "\n",
      "Transpose of the matrix:\n",
      "1 2 5\n",
      "2 4 6\n",
      "3 5 7\n"
     ]
    }
   ],
   "source": [
    "def input_matrix():\n",
    "    rows = int(input(\"Enter the number of rows: \"))\n",
    "    cols = int(input(\"Enter the number of columns: \"))\n",
    "    \n",
    "    matrix = []\n",
    "    print(\"Enter the elements of the matrix:\")\n",
    "    for i in range(rows):\n",
    "        row = list(map(int, input(f\"Row {i+1}: \").split()))\n",
    "        if len(row) != cols:\n",
    "            print(f\"Error: Expected {cols} elements in row {i+1}.\")\n",
    "            return None\n",
    "        matrix.append(row)\n",
    "    \n",
    "    return matrix\n",
    "\n",
    "def transpose_matrix(matrix):\n",
    "    rows = len(matrix)\n",
    "    cols = len(matrix[0])\n",
    "    \n",
    "    transpose = [[0 for _ in range(rows)] for _ in range(cols)]\n",
    "    \n",
    "    for i in range(rows):\n",
    "        for j in range(cols):\n",
    "            transpose[j][i] = matrix[i][j]\n",
    "    \n",
    "    return transpose\n",
    "\n",
    "def print_matrix(matrix):\n",
    "    for row in matrix:\n",
    "        print(\" \".join(map(str, row)))\n",
    "\n",
    "matrix = input_matrix()\n",
    "\n",
    "if matrix is None:\n",
    "    print(\"Error in matrix input.\")\n",
    "else:\n",
    "    transposed_matrix = transpose_matrix(matrix)\n",
    "    \n",
    "    print(\"Original matrix:\")\n",
    "    print_matrix(matrix)\n",
    "    \n",
    "    print(\"\\nTranspose of the matrix:\")\n",
    "    print_matrix(transposed_matrix)"
   ]
  },
  {
   "cell_type": "code",
   "execution_count": null,
   "id": "3e15833d",
   "metadata": {},
   "outputs": [],
   "source": []
  }
 ],
 "metadata": {
  "kernelspec": {
   "display_name": "Python 3 (ipykernel)",
   "language": "python",
   "name": "python3"
  },
  "language_info": {
   "codemirror_mode": {
    "name": "ipython",
    "version": 3
   },
   "file_extension": ".py",
   "mimetype": "text/x-python",
   "name": "python",
   "nbconvert_exporter": "python",
   "pygments_lexer": "ipython3",
   "version": "3.11.4"
  }
 },
 "nbformat": 4,
 "nbformat_minor": 5
}
